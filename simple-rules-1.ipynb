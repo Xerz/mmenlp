{
 "cells": [
  {
   "cell_type": "code",
   "execution_count": 1,
   "source": [
    "from glob import glob\n",
    "\n",
    "\n",
    "def make_translation(source, target):\n",
    "    assert len(source) == len(target)\n",
    "    return {\n",
    "        ord(a): ord(b)\n",
    "        for a, b in zip(source, target)\n",
    "    }\n",
    "\n",
    "\n",
    "DASHES_TRANSLATION = make_translation(\n",
    "    '‑–—−',\n",
    "    '----'\n",
    ")\n",
    "\n",
    "\n",
    "def preprocess(text):\n",
    "    text = text.replace('\\xa0', ' ')\n",
    "    text = text.replace('\\xad', '')\n",
    "    text = text.translate(DASHES_TRANSLATION)\n",
    "    return text\n",
    "    \n",
    "texts = []\n",
    "for path in sorted(glob('texts/*.txt')):\n",
    "    with open(path) as file:\n",
    "        text = file.read()\n",
    "        text = preprocess(text)\n",
    "        texts.append(text)"
   ],
   "outputs": [],
   "metadata": {}
  },
  {
   "cell_type": "code",
   "execution_count": 2,
   "source": [
    "from random import seed, sample\n",
    "\n",
    "seed(2)\n",
    "for text in sample(texts, 3):\n",
    "    print(text)\n",
    "    print('---' * 10)"
   ],
   "outputs": [
    {
     "output_type": "stream",
     "name": "stdout",
     "text": [
      "двое взрослых плюс ребенок 7 лет , Анталия, все включено\n",
      "------------------------------\n",
      "Хочу в Абхазию, чтобы отель были видны горы и море, на первой линии. Говорят что есть отели все включено\n",
      "------------------------------\n",
      "ДОбрый вечер! Хотим в Испанию с мужем и дочкой 3 года. Совместить пляжный отдых и экскурсии. Слышала про салоу, но там наверное дорогие отели? Можно же ареновать машину или как то по другому потом доехать до барселоны. Еще хотели бы посетить порт авентуру. Подскажите по ценам?\n",
      "------------------------------\n"
     ]
    }
   ],
   "metadata": {}
  },
  {
   "cell_type": "code",
   "execution_count": 3,
   "source": [
    "lines = []\n",
    "for text in texts:\n",
    "\tfor line in text.splitlines():\n",
    "\t\tlines.append(line)\n",
    "\t\t\n",
    "sample(lines, 3)"
   ],
   "outputs": [
    {
     "output_type": "execute_result",
     "data": {
      "text/plain": [
       "['Ну раз Турцию наконец то открыли, решили выбраться с семьей. Едем с мужем и двумя детьми (17 и 10). Муж и дети не любят активный отдых, им нужен шведский стол, море, бассейн, мужу мииниьар. Я бы хотела на экскурсии. Отель все включено не ниже хорошей четверки',\n",
       " 'Здравствуйте, мы с женой хотели бы полететь в Турцию, Анталия. По отелю следующее: первая линия, чистый пляж, не на 1 этаже номер:))), шведский стол и чтобы не шумно. Бюджет около ста. Спасибо',\n",
       " 'Мы с женой хотим отдохнуть в Белеке, в хорошем отеле на берегу. Номер должен быть обязательно с видом на море. Анимация не нужна, хороший алкоголь приветствуется. Что Вы можете предложить?']"
      ]
     },
     "metadata": {},
     "execution_count": 3
    }
   ],
   "metadata": {}
  },
  {
   "cell_type": "code",
   "execution_count": 4,
   "source": [
    "from IPython.display import display\n",
    "\n",
    "from ipymarkup import show_span_ascii_markup as show_markup\n",
    "\n",
    "from yargy import (\n",
    "    Parser,\n",
    "    or_, rule\n",
    ")\n",
    "from yargy.pipelines import morph_pipeline\n",
    "from yargy.predicates import (\n",
    "    eq, in_, dictionary,\n",
    "    type, gram\n",
    ")\n",
    "from yargy.tokenizer import MorphTokenizer\n",
    "from yargy import interpretation as interp\n",
    "from yargy.interpretation import fact, attribute\n",
    "\n",
    "\n",
    "def show_matches(rule, *lines):\n",
    "    parser = Parser(rule)\n",
    "    for line in lines:\n",
    "        matches = parser.findall(line)\n",
    "        matches = sorted(matches, key=lambda _: _.span)\n",
    "        spans = [_.span for _ in matches]\n",
    "        show_markup(line, spans)\n",
    "        if matches:\n",
    "            facts = [_.fact for _ in matches]\n",
    "            if len(facts) == 1:\n",
    "                facts = facts[0]\n",
    "            display(facts)\n",
    "\n",
    "INT = type('INT')\n",
    "NOUN = gram('NOUN')\n",
    "ADJF = gram('ADJF')\n",
    "PRTF = gram('PRTF')\n",
    "GENT = gram('gent')\n",
    "DOT = eq('.')\n",
    "\n",
    "\n",
    "TOKENIZER = MorphTokenizer()"
   ],
   "outputs": [],
   "metadata": {}
  },
  {
   "cell_type": "code",
   "execution_count": 10,
   "source": [
    "%run -n -i rules/budget.py"
   ],
   "outputs": [],
   "metadata": {}
  },
  {
   "cell_type": "code",
   "execution_count": 6,
   "source": [
    "parser = Parser(BUDGET)\n",
    "seed(3)\n",
    "for line in sample(lines, 6):\n",
    "    matches = list(parser.findall(line))\n",
    "    spans = [_.span for _ in matches]\n",
    "    show_markup(line, spans)\n",
    "    if matches:\n",
    "        match = matches[0]\n",
    "        display(match.tree.as_dot)\n",
    "        display(match.fact)\n"
   ],
   "outputs": [
    {
     "output_type": "stream",
     "name": "stdout",
     "text": [
      "Здравствуйте. Это турагенство? Хочу дояери сделать подарок на \n",
      "окончание школы-поездку в Италию. Рассматриваю Рим, Милан. 7-9 ней, \n",
      "отель в центре, не ниже 4. Чтобы были только завтраки. Найдете \n",
      "варианты?\n",
      "смотрим терклюр, в общем нам нужен хороший пляж. и не дорого, 1 линия \n",
      "не обязательна, важно хороший пляж, горки в бассейне, можно 4*. и \n",
      "чтобы за пределами отеля была инфраструктура\n",
      "Едем первый раз. Нужно чтобы было неорого: рядом пляж. Чтобы было \n",
      "хорошо и где погулять. Чтобы не в пустыне отель стоял. Нас двое \n",
      "взрослых. По цене ну средненько.\n",
      "Нужно чтобы было рядом где погулять,  не ниже 4*, питание все включено\n",
      "Семья 2+1 ребенок(11), Турция , Район Авсалар,Инджекум,Тюрклер, 4-5*, \n",
      "1 линия, песочный заход\n",
      "Доброго времени суток. Интересует Хайнань, слышал от друзей что им там\n",
      " понравилось семьей. Едем с женой, ищем отель в первой линии. Бюджет \n",
      "                                                              ───────\n",
      "до 70.\n",
      "───── \n"
     ]
    },
    {
     "output_type": "display_data",
     "data": {
      "text/plain": [
       "Graph(nodes=[...], edges=[...])"
      ],
      "image/svg+xml": "<?xml version=\"1.0\" encoding=\"UTF-8\" standalone=\"no\"?>\n<!DOCTYPE svg PUBLIC \"-//W3C//DTD SVG 1.1//EN\"\n \"http://www.w3.org/Graphics/SVG/1.1/DTD/svg11.dtd\">\n<!-- Generated by graphviz version 2.48.0 (20210717.1556)\n -->\n<!-- Title: G Pages: 1 -->\n<svg width=\"222pt\" height=\"216pt\"\n viewBox=\"0.00 0.00 221.50 216.00\" xmlns=\"http://www.w3.org/2000/svg\" xmlns:xlink=\"http://www.w3.org/1999/xlink\">\n<g id=\"graph0\" class=\"graph\" transform=\"scale(1 1) rotate(0) translate(4 212)\">\n<title>G</title>\n<polygon fill=\"white\" stroke=\"transparent\" points=\"-4,4 -4,-212 217.5,-212 217.5,4 -4,4\"/>\n<!-- 0 -->\n<g id=\"node1\" class=\"node\">\n<title>0</title>\n<polygon fill=\"#dbdb8d\" stroke=\"transparent\" points=\"127.5,-208 79.5,-208 79.5,-189 127.5,-189 127.5,-208\"/>\n<text text-anchor=\"middle\" x=\"103.5\" y=\"-196\" font-family=\"sans\" font-size=\"10.00\">Budget</text>\n</g>\n<!-- 1 -->\n<g id=\"node2\" class=\"node\">\n<title>1</title>\n<polygon fill=\"#dbdb8d\" stroke=\"transparent\" points=\"109,-181 0,-181 0,-162 109,-162 109,-181\"/>\n<text text-anchor=\"middle\" x=\"54.5\" y=\"-169\" font-family=\"sans\" font-size=\"10.00\">Budget.budget_word</text>\n</g>\n<!-- 0&#45;&gt;1 -->\n<g id=\"edge1\" class=\"edge\">\n<title>0&#45;&gt;1</title>\n<path fill=\"none\" stroke=\"gray\" d=\"M86.64,-188.9C82.59,-186.83 78.23,-184.61 74.07,-182.48\"/>\n<polygon fill=\"gray\" stroke=\"gray\" points=\"74.38,-181.46 71.23,-181.03 73.42,-183.33 74.38,-181.46\"/>\n</g>\n<!-- 4 -->\n<g id=\"node5\" class=\"node\">\n<title>4</title>\n<polygon fill=\"#dbdb8d\" stroke=\"transparent\" points=\"194.5,-181 110.5,-181 110.5,-162 194.5,-162 194.5,-181\"/>\n<text text-anchor=\"middle\" x=\"152.5\" y=\"-169\" font-family=\"sans\" font-size=\"10.00\">Budget.amount</text>\n</g>\n<!-- 0&#45;&gt;4 -->\n<g id=\"edge2\" class=\"edge\">\n<title>0&#45;&gt;4</title>\n<path fill=\"none\" stroke=\"gray\" d=\"M120.36,-188.9C124.41,-186.83 128.77,-184.61 132.93,-182.48\"/>\n<polygon fill=\"gray\" stroke=\"gray\" points=\"133.58,-183.33 135.77,-181.03 132.62,-181.46 133.58,-183.33\"/>\n</g>\n<!-- 2 -->\n<g id=\"node3\" class=\"node\">\n<title>2</title>\n<polygon fill=\"#aec7e8\" stroke=\"transparent\" points=\"69,-154 40,-154 40,-135 69,-135 69,-154\"/>\n<text text-anchor=\"middle\" x=\"54.5\" y=\"-142\" font-family=\"sans\" font-size=\"10.00\">R6</text>\n</g>\n<!-- 1&#45;&gt;2 -->\n<g id=\"edge3\" class=\"edge\">\n<title>1&#45;&gt;2</title>\n<path fill=\"none\" stroke=\"gray\" d=\"M54.5,-161.76C54.5,-160.36 54.5,-158.9 54.5,-157.45\"/>\n<polygon fill=\"gray\" stroke=\"gray\" points=\"55.55,-157.11 54.5,-154.11 53.45,-157.11 55.55,-157.11\"/>\n</g>\n<!-- 3 -->\n<g id=\"node4\" class=\"node\">\n<title>3</title>\n<polygon fill=\"#eeeeee\" stroke=\"transparent\" points=\"82,-127 27,-127 27,-108 82,-108 82,-127\"/>\n<text text-anchor=\"middle\" x=\"54.5\" y=\"-115\" font-family=\"sans\" font-size=\"10.00\">Бюджет</text>\n</g>\n<!-- 2&#45;&gt;3 -->\n<g id=\"edge4\" class=\"edge\">\n<title>2&#45;&gt;3</title>\n<path fill=\"none\" stroke=\"gray\" d=\"M54.5,-134.76C54.5,-133.36 54.5,-131.9 54.5,-130.45\"/>\n<polygon fill=\"gray\" stroke=\"gray\" points=\"55.55,-130.11 54.5,-127.11 53.45,-130.11 55.55,-130.11\"/>\n</g>\n<!-- 5 -->\n<g id=\"node6\" class=\"node\">\n<title>5</title>\n<polygon fill=\"#dbdb8d\" stroke=\"transparent\" points=\"178,-154 127,-154 127,-135 178,-135 178,-154\"/>\n<text text-anchor=\"middle\" x=\"152.5\" y=\"-142\" font-family=\"sans\" font-size=\"10.00\">Amount</text>\n</g>\n<!-- 4&#45;&gt;5 -->\n<g id=\"edge5\" class=\"edge\">\n<title>4&#45;&gt;5</title>\n<path fill=\"none\" stroke=\"gray\" d=\"M152.5,-161.76C152.5,-160.36 152.5,-158.9 152.5,-157.45\"/>\n<polygon fill=\"gray\" stroke=\"gray\" points=\"153.55,-157.11 152.5,-154.11 151.45,-157.11 153.55,-157.11\"/>\n</g>\n<!-- 6 -->\n<g id=\"node7\" class=\"node\">\n<title>6</title>\n<polygon fill=\"#dbdb8d\" stroke=\"transparent\" points=\"175.5,-127 129.5,-127 129.5,-108 175.5,-108 175.5,-127\"/>\n<text text-anchor=\"middle\" x=\"152.5\" y=\"-115\" font-family=\"sans\" font-size=\"10.00\">Range</text>\n</g>\n<!-- 5&#45;&gt;6 -->\n<g id=\"edge6\" class=\"edge\">\n<title>5&#45;&gt;6</title>\n<path fill=\"none\" stroke=\"gray\" d=\"M152.5,-134.76C152.5,-133.36 152.5,-131.9 152.5,-130.45\"/>\n<polygon fill=\"gray\" stroke=\"gray\" points=\"153.55,-130.11 152.5,-127.11 151.45,-130.11 153.55,-130.11\"/>\n</g>\n<!-- 7 -->\n<g id=\"node8\" class=\"node\">\n<title>7</title>\n<polygon fill=\"#aec7e8\" stroke=\"transparent\" points=\"144,-100 109,-100 109,-81 144,-81 144,-100\"/>\n<text text-anchor=\"middle\" x=\"126.5\" y=\"-88\" font-family=\"sans\" font-size=\"10.00\">R15</text>\n</g>\n<!-- 6&#45;&gt;7 -->\n<g id=\"edge7\" class=\"edge\">\n<title>6&#45;&gt;7</title>\n<path fill=\"none\" stroke=\"gray\" d=\"M143.41,-107.76C141.55,-105.98 139.58,-104.08 137.67,-102.24\"/>\n<polygon fill=\"gray\" stroke=\"gray\" points=\"138.35,-101.43 135.46,-100.11 136.89,-102.95 138.35,-101.43\"/>\n</g>\n<!-- 9 -->\n<g id=\"node10\" class=\"node\">\n<title>9</title>\n<polygon fill=\"#dbdb8d\" stroke=\"transparent\" points=\"213.5,-100 145.5,-100 145.5,-81 213.5,-81 213.5,-100\"/>\n<text text-anchor=\"middle\" x=\"179.5\" y=\"-88\" font-family=\"sans\" font-size=\"10.00\">Range.stop</text>\n</g>\n<!-- 6&#45;&gt;9 -->\n<g id=\"edge8\" class=\"edge\">\n<title>6&#45;&gt;9</title>\n<path fill=\"none\" stroke=\"gray\" d=\"M161.94,-107.76C163.87,-105.98 165.91,-104.08 167.9,-102.24\"/>\n<polygon fill=\"gray\" stroke=\"gray\" points=\"168.71,-102.92 170.2,-100.11 167.28,-101.38 168.71,-102.92\"/>\n</g>\n<!-- 8 -->\n<g id=\"node9\" class=\"node\">\n<title>8</title>\n<polygon fill=\"#eeeeee\" stroke=\"transparent\" points=\"140.5,-73 112.5,-73 112.5,-54 140.5,-54 140.5,-73\"/>\n<text text-anchor=\"middle\" x=\"126.5\" y=\"-61\" font-family=\"sans\" font-size=\"10.00\">до</text>\n</g>\n<!-- 7&#45;&gt;8 -->\n<g id=\"edge9\" class=\"edge\">\n<title>7&#45;&gt;8</title>\n<path fill=\"none\" stroke=\"gray\" d=\"M126.5,-80.76C126.5,-79.36 126.5,-77.9 126.5,-76.45\"/>\n<polygon fill=\"gray\" stroke=\"gray\" points=\"127.55,-76.11 126.5,-73.11 125.45,-76.11 127.55,-76.11\"/>\n</g>\n<!-- 10 -->\n<g id=\"node11\" class=\"node\">\n<title>10</title>\n<polygon fill=\"#aec7e8\" stroke=\"transparent\" points=\"194,-73 165,-73 165,-54 194,-54 194,-73\"/>\n<text text-anchor=\"middle\" x=\"179.5\" y=\"-61\" font-family=\"sans\" font-size=\"10.00\">R7</text>\n</g>\n<!-- 9&#45;&gt;10 -->\n<g id=\"edge10\" class=\"edge\">\n<title>9&#45;&gt;10</title>\n<path fill=\"none\" stroke=\"gray\" d=\"M179.5,-80.76C179.5,-79.36 179.5,-77.9 179.5,-76.45\"/>\n<polygon fill=\"gray\" stroke=\"gray\" points=\"180.55,-76.11 179.5,-73.11 178.45,-76.11 180.55,-76.11\"/>\n</g>\n<!-- 11 -->\n<g id=\"node12\" class=\"node\">\n<title>11</title>\n<polygon fill=\"#dbdb8d\" stroke=\"transparent\" points=\"212.5,-46 146.5,-46 146.5,-27 212.5,-27 212.5,-46\"/>\n<text text-anchor=\"middle\" x=\"179.5\" y=\"-34\" font-family=\"sans\" font-size=\"10.00\">custom(int)</text>\n</g>\n<!-- 10&#45;&gt;11 -->\n<g id=\"edge11\" class=\"edge\">\n<title>10&#45;&gt;11</title>\n<path fill=\"none\" stroke=\"gray\" d=\"M179.5,-53.76C179.5,-52.36 179.5,-50.9 179.5,-49.45\"/>\n<polygon fill=\"gray\" stroke=\"gray\" points=\"180.55,-49.11 179.5,-46.11 178.45,-49.11 180.55,-49.11\"/>\n</g>\n<!-- 12 -->\n<g id=\"node13\" class=\"node\">\n<title>12</title>\n<polygon fill=\"#eeeeee\" stroke=\"transparent\" points=\"193.5,-19 165.5,-19 165.5,0 193.5,0 193.5,-19\"/>\n<text text-anchor=\"middle\" x=\"179.5\" y=\"-7\" font-family=\"sans\" font-size=\"10.00\">70</text>\n</g>\n<!-- 11&#45;&gt;12 -->\n<g id=\"edge12\" class=\"edge\">\n<title>11&#45;&gt;12</title>\n<path fill=\"none\" stroke=\"gray\" d=\"M179.5,-26.76C179.5,-25.36 179.5,-23.9 179.5,-22.45\"/>\n<polygon fill=\"gray\" stroke=\"gray\" points=\"180.55,-22.11 179.5,-19.11 178.45,-22.11 180.55,-22.11\"/>\n</g>\n</g>\n</svg>\n"
     },
     "metadata": {}
    },
    {
     "output_type": "display_data",
     "data": {
      "text/plain": [
       "Budget(\n",
       "    budget_word='Бюджет',\n",
       "    amount=Amount(\n",
       "        value=None\n",
       "    )\n",
       ")"
      ]
     },
     "metadata": {}
    }
   ],
   "metadata": {}
  },
  {
   "cell_type": "code",
   "execution_count": 11,
   "source": [
    "%run -n -i rules/children.py"
   ],
   "outputs": [],
   "metadata": {}
  },
  {
   "cell_type": "code",
   "execution_count": 8,
   "source": [
    "parser = Parser(BUDGET)\n",
    "seed(1)\n",
    "for line in sample(lines, 3):\n",
    "    matches = list(parser.findall(line))\n",
    "    spans = [_.span for _ in matches]\n",
    "    show_markup(line, spans)\n",
    "    if matches:\n",
    "        match = matches[0]\n",
    "        display(match.tree.as_dot)\n",
    "        display(match.fact)"
   ],
   "outputs": [
    {
     "output_type": "stream",
     "name": "stdout",
     "text": [
      "Здравствуйте. Мы бы хотели подобрать тур у вас. Хотим море, пляжный \n",
      "тур, нас двое (без детей). Нужно экономично, минимальные затраты(до \n",
      "                                             ───────────────────    \n",
      "60). Но чтобы обязательно было море, спасибо)))\n"
     ]
    },
    {
     "output_type": "display_data",
     "data": {
      "text/plain": [
       "Graph(nodes=[...], edges=[...])"
      ],
      "image/svg+xml": "<?xml version=\"1.0\" encoding=\"UTF-8\" standalone=\"no\"?>\n<!DOCTYPE svg PUBLIC \"-//W3C//DTD SVG 1.1//EN\"\n \"http://www.w3.org/Graphics/SVG/1.1/DTD/svg11.dtd\">\n<!-- Generated by graphviz version 2.48.0 (20210717.1556)\n -->\n<!-- Title: G Pages: 1 -->\n<svg width=\"203pt\" height=\"135pt\"\n viewBox=\"0.00 0.00 202.50 135.00\" xmlns=\"http://www.w3.org/2000/svg\" xmlns:xlink=\"http://www.w3.org/1999/xlink\">\n<g id=\"graph0\" class=\"graph\" transform=\"scale(1 1) rotate(0) translate(4 131)\">\n<title>G</title>\n<polygon fill=\"white\" stroke=\"transparent\" points=\"-4,4 -4,-131 198.5,-131 198.5,4 -4,4\"/>\n<!-- 0 -->\n<g id=\"node1\" class=\"node\">\n<title>0</title>\n<polygon fill=\"#dbdb8d\" stroke=\"transparent\" points=\"115,-127 67,-127 67,-108 115,-108 115,-127\"/>\n<text text-anchor=\"middle\" x=\"91\" y=\"-115\" font-family=\"sans\" font-size=\"10.00\">Budget</text>\n</g>\n<!-- 1 -->\n<g id=\"node2\" class=\"node\">\n<title>1</title>\n<polygon fill=\"#dbdb8d\" stroke=\"transparent\" points=\"84,-100 0,-100 0,-81 84,-81 84,-100\"/>\n<text text-anchor=\"middle\" x=\"42\" y=\"-88\" font-family=\"sans\" font-size=\"10.00\">Budget.amount</text>\n</g>\n<!-- 0&#45;&gt;1 -->\n<g id=\"edge1\" class=\"edge\">\n<title>0&#45;&gt;1</title>\n<path fill=\"none\" stroke=\"gray\" d=\"M74.14,-107.9C70.09,-105.83 65.73,-103.61 61.57,-101.48\"/>\n<polygon fill=\"gray\" stroke=\"gray\" points=\"61.88,-100.46 58.73,-100.03 60.92,-102.33 61.88,-100.46\"/>\n</g>\n<!-- 5 -->\n<g id=\"node6\" class=\"node\">\n<title>5</title>\n<polygon fill=\"#dbdb8d\" stroke=\"transparent\" points=\"194.5,-100 85.5,-100 85.5,-81 194.5,-81 194.5,-100\"/>\n<text text-anchor=\"middle\" x=\"140\" y=\"-88\" font-family=\"sans\" font-size=\"10.00\">Budget.budget_word</text>\n</g>\n<!-- 0&#45;&gt;5 -->\n<g id=\"edge2\" class=\"edge\">\n<title>0&#45;&gt;5</title>\n<path fill=\"none\" stroke=\"gray\" d=\"M107.86,-107.9C111.91,-105.83 116.27,-103.61 120.43,-101.48\"/>\n<polygon fill=\"gray\" stroke=\"gray\" points=\"121.08,-102.33 123.27,-100.03 120.12,-100.46 121.08,-102.33\"/>\n</g>\n<!-- 2 -->\n<g id=\"node3\" class=\"node\">\n<title>2</title>\n<polygon fill=\"#dbdb8d\" stroke=\"transparent\" points=\"67.5,-73 16.5,-73 16.5,-54 67.5,-54 67.5,-73\"/>\n<text text-anchor=\"middle\" x=\"42\" y=\"-61\" font-family=\"sans\" font-size=\"10.00\">Amount</text>\n</g>\n<!-- 1&#45;&gt;2 -->\n<g id=\"edge3\" class=\"edge\">\n<title>1&#45;&gt;2</title>\n<path fill=\"none\" stroke=\"gray\" d=\"M42,-80.76C42,-79.36 42,-77.9 42,-76.45\"/>\n<polygon fill=\"gray\" stroke=\"gray\" points=\"43.05,-76.11 42,-73.11 40.95,-76.11 43.05,-76.11\"/>\n</g>\n<!-- 3 -->\n<g id=\"node4\" class=\"node\">\n<title>3</title>\n<polygon fill=\"#dbdb8d\" stroke=\"transparent\" points=\"67.5,-46 16.5,-46 16.5,-27 67.5,-27 67.5,-46\"/>\n<text text-anchor=\"middle\" x=\"42\" y=\"-34\" font-family=\"sans\" font-size=\"10.00\">Minimal</text>\n</g>\n<!-- 2&#45;&gt;3 -->\n<g id=\"edge4\" class=\"edge\">\n<title>2&#45;&gt;3</title>\n<path fill=\"none\" stroke=\"gray\" d=\"M42,-53.76C42,-52.36 42,-50.9 42,-49.45\"/>\n<polygon fill=\"gray\" stroke=\"gray\" points=\"43.05,-49.11 42,-46.11 40.95,-49.11 43.05,-49.11\"/>\n</g>\n<!-- 4 -->\n<g id=\"node5\" class=\"node\">\n<title>4</title>\n<polygon fill=\"#eeeeee\" stroke=\"transparent\" points=\"83,-19 1,-19 1,0 83,0 83,-19\"/>\n<text text-anchor=\"middle\" x=\"42\" y=\"-7\" font-family=\"sans\" font-size=\"10.00\">минимальные</text>\n</g>\n<!-- 3&#45;&gt;4 -->\n<g id=\"edge5\" class=\"edge\">\n<title>3&#45;&gt;4</title>\n<path fill=\"none\" stroke=\"gray\" d=\"M42,-26.76C42,-25.36 42,-23.9 42,-22.45\"/>\n<polygon fill=\"gray\" stroke=\"gray\" points=\"43.05,-22.11 42,-19.11 40.95,-22.11 43.05,-22.11\"/>\n</g>\n<!-- 6 -->\n<g id=\"node7\" class=\"node\">\n<title>6</title>\n<polygon fill=\"#aec7e8\" stroke=\"transparent\" points=\"154.5,-73 125.5,-73 125.5,-54 154.5,-54 154.5,-73\"/>\n<text text-anchor=\"middle\" x=\"140\" y=\"-61\" font-family=\"sans\" font-size=\"10.00\">R6</text>\n</g>\n<!-- 5&#45;&gt;6 -->\n<g id=\"edge6\" class=\"edge\">\n<title>5&#45;&gt;6</title>\n<path fill=\"none\" stroke=\"gray\" d=\"M140,-80.76C140,-79.36 140,-77.9 140,-76.45\"/>\n<polygon fill=\"gray\" stroke=\"gray\" points=\"141.05,-76.11 140,-73.11 138.95,-76.11 141.05,-76.11\"/>\n</g>\n<!-- 7 -->\n<g id=\"node8\" class=\"node\">\n<title>7</title>\n<polygon fill=\"#eeeeee\" stroke=\"transparent\" points=\"167.5,-46 112.5,-46 112.5,-27 167.5,-27 167.5,-46\"/>\n<text text-anchor=\"middle\" x=\"140\" y=\"-34\" font-family=\"sans\" font-size=\"10.00\">затраты</text>\n</g>\n<!-- 6&#45;&gt;7 -->\n<g id=\"edge7\" class=\"edge\">\n<title>6&#45;&gt;7</title>\n<path fill=\"none\" stroke=\"gray\" d=\"M140,-53.76C140,-52.36 140,-50.9 140,-49.45\"/>\n<polygon fill=\"gray\" stroke=\"gray\" points=\"141.05,-49.11 140,-46.11 138.95,-49.11 141.05,-49.11\"/>\n</g>\n</g>\n</svg>\n"
     },
     "metadata": {}
    },
    {
     "output_type": "display_data",
     "data": {
      "text/plain": [
       "Budget(\n",
       "    budget_word='затраты',\n",
       "    amount=Amount(\n",
       "        value=None\n",
       "    )\n",
       ")"
      ]
     },
     "metadata": {}
    },
    {
     "output_type": "stream",
     "name": "stdout",
     "text": [
      "Доброго времени суток. Интересует Хайнань, слышал от друзей что им там\n",
      " понравилось семьей. Едем с женой, ищем отель в первой линии. Бюджет \n",
      "                                                              ───────\n",
      "до 70.\n",
      "───── \n"
     ]
    },
    {
     "output_type": "display_data",
     "data": {
      "text/plain": [
       "Graph(nodes=[...], edges=[...])"
      ],
      "image/svg+xml": "<?xml version=\"1.0\" encoding=\"UTF-8\" standalone=\"no\"?>\n<!DOCTYPE svg PUBLIC \"-//W3C//DTD SVG 1.1//EN\"\n \"http://www.w3.org/Graphics/SVG/1.1/DTD/svg11.dtd\">\n<!-- Generated by graphviz version 2.48.0 (20210717.1556)\n -->\n<!-- Title: G Pages: 1 -->\n<svg width=\"222pt\" height=\"216pt\"\n viewBox=\"0.00 0.00 221.50 216.00\" xmlns=\"http://www.w3.org/2000/svg\" xmlns:xlink=\"http://www.w3.org/1999/xlink\">\n<g id=\"graph0\" class=\"graph\" transform=\"scale(1 1) rotate(0) translate(4 212)\">\n<title>G</title>\n<polygon fill=\"white\" stroke=\"transparent\" points=\"-4,4 -4,-212 217.5,-212 217.5,4 -4,4\"/>\n<!-- 0 -->\n<g id=\"node1\" class=\"node\">\n<title>0</title>\n<polygon fill=\"#dbdb8d\" stroke=\"transparent\" points=\"127.5,-208 79.5,-208 79.5,-189 127.5,-189 127.5,-208\"/>\n<text text-anchor=\"middle\" x=\"103.5\" y=\"-196\" font-family=\"sans\" font-size=\"10.00\">Budget</text>\n</g>\n<!-- 1 -->\n<g id=\"node2\" class=\"node\">\n<title>1</title>\n<polygon fill=\"#dbdb8d\" stroke=\"transparent\" points=\"109,-181 0,-181 0,-162 109,-162 109,-181\"/>\n<text text-anchor=\"middle\" x=\"54.5\" y=\"-169\" font-family=\"sans\" font-size=\"10.00\">Budget.budget_word</text>\n</g>\n<!-- 0&#45;&gt;1 -->\n<g id=\"edge1\" class=\"edge\">\n<title>0&#45;&gt;1</title>\n<path fill=\"none\" stroke=\"gray\" d=\"M86.64,-188.9C82.59,-186.83 78.23,-184.61 74.07,-182.48\"/>\n<polygon fill=\"gray\" stroke=\"gray\" points=\"74.38,-181.46 71.23,-181.03 73.42,-183.33 74.38,-181.46\"/>\n</g>\n<!-- 4 -->\n<g id=\"node5\" class=\"node\">\n<title>4</title>\n<polygon fill=\"#dbdb8d\" stroke=\"transparent\" points=\"194.5,-181 110.5,-181 110.5,-162 194.5,-162 194.5,-181\"/>\n<text text-anchor=\"middle\" x=\"152.5\" y=\"-169\" font-family=\"sans\" font-size=\"10.00\">Budget.amount</text>\n</g>\n<!-- 0&#45;&gt;4 -->\n<g id=\"edge2\" class=\"edge\">\n<title>0&#45;&gt;4</title>\n<path fill=\"none\" stroke=\"gray\" d=\"M120.36,-188.9C124.41,-186.83 128.77,-184.61 132.93,-182.48\"/>\n<polygon fill=\"gray\" stroke=\"gray\" points=\"133.58,-183.33 135.77,-181.03 132.62,-181.46 133.58,-183.33\"/>\n</g>\n<!-- 2 -->\n<g id=\"node3\" class=\"node\">\n<title>2</title>\n<polygon fill=\"#aec7e8\" stroke=\"transparent\" points=\"69,-154 40,-154 40,-135 69,-135 69,-154\"/>\n<text text-anchor=\"middle\" x=\"54.5\" y=\"-142\" font-family=\"sans\" font-size=\"10.00\">R6</text>\n</g>\n<!-- 1&#45;&gt;2 -->\n<g id=\"edge3\" class=\"edge\">\n<title>1&#45;&gt;2</title>\n<path fill=\"none\" stroke=\"gray\" d=\"M54.5,-161.76C54.5,-160.36 54.5,-158.9 54.5,-157.45\"/>\n<polygon fill=\"gray\" stroke=\"gray\" points=\"55.55,-157.11 54.5,-154.11 53.45,-157.11 55.55,-157.11\"/>\n</g>\n<!-- 3 -->\n<g id=\"node4\" class=\"node\">\n<title>3</title>\n<polygon fill=\"#eeeeee\" stroke=\"transparent\" points=\"82,-127 27,-127 27,-108 82,-108 82,-127\"/>\n<text text-anchor=\"middle\" x=\"54.5\" y=\"-115\" font-family=\"sans\" font-size=\"10.00\">Бюджет</text>\n</g>\n<!-- 2&#45;&gt;3 -->\n<g id=\"edge4\" class=\"edge\">\n<title>2&#45;&gt;3</title>\n<path fill=\"none\" stroke=\"gray\" d=\"M54.5,-134.76C54.5,-133.36 54.5,-131.9 54.5,-130.45\"/>\n<polygon fill=\"gray\" stroke=\"gray\" points=\"55.55,-130.11 54.5,-127.11 53.45,-130.11 55.55,-130.11\"/>\n</g>\n<!-- 5 -->\n<g id=\"node6\" class=\"node\">\n<title>5</title>\n<polygon fill=\"#dbdb8d\" stroke=\"transparent\" points=\"178,-154 127,-154 127,-135 178,-135 178,-154\"/>\n<text text-anchor=\"middle\" x=\"152.5\" y=\"-142\" font-family=\"sans\" font-size=\"10.00\">Amount</text>\n</g>\n<!-- 4&#45;&gt;5 -->\n<g id=\"edge5\" class=\"edge\">\n<title>4&#45;&gt;5</title>\n<path fill=\"none\" stroke=\"gray\" d=\"M152.5,-161.76C152.5,-160.36 152.5,-158.9 152.5,-157.45\"/>\n<polygon fill=\"gray\" stroke=\"gray\" points=\"153.55,-157.11 152.5,-154.11 151.45,-157.11 153.55,-157.11\"/>\n</g>\n<!-- 6 -->\n<g id=\"node7\" class=\"node\">\n<title>6</title>\n<polygon fill=\"#dbdb8d\" stroke=\"transparent\" points=\"175.5,-127 129.5,-127 129.5,-108 175.5,-108 175.5,-127\"/>\n<text text-anchor=\"middle\" x=\"152.5\" y=\"-115\" font-family=\"sans\" font-size=\"10.00\">Range</text>\n</g>\n<!-- 5&#45;&gt;6 -->\n<g id=\"edge6\" class=\"edge\">\n<title>5&#45;&gt;6</title>\n<path fill=\"none\" stroke=\"gray\" d=\"M152.5,-134.76C152.5,-133.36 152.5,-131.9 152.5,-130.45\"/>\n<polygon fill=\"gray\" stroke=\"gray\" points=\"153.55,-130.11 152.5,-127.11 151.45,-130.11 153.55,-130.11\"/>\n</g>\n<!-- 7 -->\n<g id=\"node8\" class=\"node\">\n<title>7</title>\n<polygon fill=\"#aec7e8\" stroke=\"transparent\" points=\"144,-100 109,-100 109,-81 144,-81 144,-100\"/>\n<text text-anchor=\"middle\" x=\"126.5\" y=\"-88\" font-family=\"sans\" font-size=\"10.00\">R15</text>\n</g>\n<!-- 6&#45;&gt;7 -->\n<g id=\"edge7\" class=\"edge\">\n<title>6&#45;&gt;7</title>\n<path fill=\"none\" stroke=\"gray\" d=\"M143.41,-107.76C141.55,-105.98 139.58,-104.08 137.67,-102.24\"/>\n<polygon fill=\"gray\" stroke=\"gray\" points=\"138.35,-101.43 135.46,-100.11 136.89,-102.95 138.35,-101.43\"/>\n</g>\n<!-- 9 -->\n<g id=\"node10\" class=\"node\">\n<title>9</title>\n<polygon fill=\"#dbdb8d\" stroke=\"transparent\" points=\"213.5,-100 145.5,-100 145.5,-81 213.5,-81 213.5,-100\"/>\n<text text-anchor=\"middle\" x=\"179.5\" y=\"-88\" font-family=\"sans\" font-size=\"10.00\">Range.stop</text>\n</g>\n<!-- 6&#45;&gt;9 -->\n<g id=\"edge8\" class=\"edge\">\n<title>6&#45;&gt;9</title>\n<path fill=\"none\" stroke=\"gray\" d=\"M161.94,-107.76C163.87,-105.98 165.91,-104.08 167.9,-102.24\"/>\n<polygon fill=\"gray\" stroke=\"gray\" points=\"168.71,-102.92 170.2,-100.11 167.28,-101.38 168.71,-102.92\"/>\n</g>\n<!-- 8 -->\n<g id=\"node9\" class=\"node\">\n<title>8</title>\n<polygon fill=\"#eeeeee\" stroke=\"transparent\" points=\"140.5,-73 112.5,-73 112.5,-54 140.5,-54 140.5,-73\"/>\n<text text-anchor=\"middle\" x=\"126.5\" y=\"-61\" font-family=\"sans\" font-size=\"10.00\">до</text>\n</g>\n<!-- 7&#45;&gt;8 -->\n<g id=\"edge9\" class=\"edge\">\n<title>7&#45;&gt;8</title>\n<path fill=\"none\" stroke=\"gray\" d=\"M126.5,-80.76C126.5,-79.36 126.5,-77.9 126.5,-76.45\"/>\n<polygon fill=\"gray\" stroke=\"gray\" points=\"127.55,-76.11 126.5,-73.11 125.45,-76.11 127.55,-76.11\"/>\n</g>\n<!-- 10 -->\n<g id=\"node11\" class=\"node\">\n<title>10</title>\n<polygon fill=\"#aec7e8\" stroke=\"transparent\" points=\"194,-73 165,-73 165,-54 194,-54 194,-73\"/>\n<text text-anchor=\"middle\" x=\"179.5\" y=\"-61\" font-family=\"sans\" font-size=\"10.00\">R7</text>\n</g>\n<!-- 9&#45;&gt;10 -->\n<g id=\"edge10\" class=\"edge\">\n<title>9&#45;&gt;10</title>\n<path fill=\"none\" stroke=\"gray\" d=\"M179.5,-80.76C179.5,-79.36 179.5,-77.9 179.5,-76.45\"/>\n<polygon fill=\"gray\" stroke=\"gray\" points=\"180.55,-76.11 179.5,-73.11 178.45,-76.11 180.55,-76.11\"/>\n</g>\n<!-- 11 -->\n<g id=\"node12\" class=\"node\">\n<title>11</title>\n<polygon fill=\"#dbdb8d\" stroke=\"transparent\" points=\"212.5,-46 146.5,-46 146.5,-27 212.5,-27 212.5,-46\"/>\n<text text-anchor=\"middle\" x=\"179.5\" y=\"-34\" font-family=\"sans\" font-size=\"10.00\">custom(int)</text>\n</g>\n<!-- 10&#45;&gt;11 -->\n<g id=\"edge11\" class=\"edge\">\n<title>10&#45;&gt;11</title>\n<path fill=\"none\" stroke=\"gray\" d=\"M179.5,-53.76C179.5,-52.36 179.5,-50.9 179.5,-49.45\"/>\n<polygon fill=\"gray\" stroke=\"gray\" points=\"180.55,-49.11 179.5,-46.11 178.45,-49.11 180.55,-49.11\"/>\n</g>\n<!-- 12 -->\n<g id=\"node13\" class=\"node\">\n<title>12</title>\n<polygon fill=\"#eeeeee\" stroke=\"transparent\" points=\"193.5,-19 165.5,-19 165.5,0 193.5,0 193.5,-19\"/>\n<text text-anchor=\"middle\" x=\"179.5\" y=\"-7\" font-family=\"sans\" font-size=\"10.00\">70</text>\n</g>\n<!-- 11&#45;&gt;12 -->\n<g id=\"edge12\" class=\"edge\">\n<title>11&#45;&gt;12</title>\n<path fill=\"none\" stroke=\"gray\" d=\"M179.5,-26.76C179.5,-25.36 179.5,-23.9 179.5,-22.45\"/>\n<polygon fill=\"gray\" stroke=\"gray\" points=\"180.55,-22.11 179.5,-19.11 178.45,-22.11 180.55,-22.11\"/>\n</g>\n</g>\n</svg>\n"
     },
     "metadata": {}
    },
    {
     "output_type": "display_data",
     "data": {
      "text/plain": [
       "Budget(\n",
       "    budget_word='Бюджет',\n",
       "    amount=Amount(\n",
       "        value=None\n",
       "    )\n",
       ")"
      ]
     },
     "metadata": {}
    },
    {
     "output_type": "stream",
     "name": "stdout",
     "text": [
      "Ищем отдых ОАЭ, Турция, Тунис, Египет. Период с 10 сентяря до 25 \n",
      "сентября. Количество ночей от 10. Бюджет до 180000. 2взр и 2 ребенка.\n",
      "                                  ────────────────                   \n"
     ]
    },
    {
     "output_type": "display_data",
     "data": {
      "text/plain": [
       "Graph(nodes=[...], edges=[...])"
      ],
      "image/svg+xml": "<?xml version=\"1.0\" encoding=\"UTF-8\" standalone=\"no\"?>\n<!DOCTYPE svg PUBLIC \"-//W3C//DTD SVG 1.1//EN\"\n \"http://www.w3.org/Graphics/SVG/1.1/DTD/svg11.dtd\">\n<!-- Generated by graphviz version 2.48.0 (20210717.1556)\n -->\n<!-- Title: G Pages: 1 -->\n<svg width=\"222pt\" height=\"216pt\"\n viewBox=\"0.00 0.00 221.50 216.00\" xmlns=\"http://www.w3.org/2000/svg\" xmlns:xlink=\"http://www.w3.org/1999/xlink\">\n<g id=\"graph0\" class=\"graph\" transform=\"scale(1 1) rotate(0) translate(4 212)\">\n<title>G</title>\n<polygon fill=\"white\" stroke=\"transparent\" points=\"-4,4 -4,-212 217.5,-212 217.5,4 -4,4\"/>\n<!-- 0 -->\n<g id=\"node1\" class=\"node\">\n<title>0</title>\n<polygon fill=\"#dbdb8d\" stroke=\"transparent\" points=\"127.5,-208 79.5,-208 79.5,-189 127.5,-189 127.5,-208\"/>\n<text text-anchor=\"middle\" x=\"103.5\" y=\"-196\" font-family=\"sans\" font-size=\"10.00\">Budget</text>\n</g>\n<!-- 1 -->\n<g id=\"node2\" class=\"node\">\n<title>1</title>\n<polygon fill=\"#dbdb8d\" stroke=\"transparent\" points=\"109,-181 0,-181 0,-162 109,-162 109,-181\"/>\n<text text-anchor=\"middle\" x=\"54.5\" y=\"-169\" font-family=\"sans\" font-size=\"10.00\">Budget.budget_word</text>\n</g>\n<!-- 0&#45;&gt;1 -->\n<g id=\"edge1\" class=\"edge\">\n<title>0&#45;&gt;1</title>\n<path fill=\"none\" stroke=\"gray\" d=\"M86.64,-188.9C82.59,-186.83 78.23,-184.61 74.07,-182.48\"/>\n<polygon fill=\"gray\" stroke=\"gray\" points=\"74.38,-181.46 71.23,-181.03 73.42,-183.33 74.38,-181.46\"/>\n</g>\n<!-- 4 -->\n<g id=\"node5\" class=\"node\">\n<title>4</title>\n<polygon fill=\"#dbdb8d\" stroke=\"transparent\" points=\"194.5,-181 110.5,-181 110.5,-162 194.5,-162 194.5,-181\"/>\n<text text-anchor=\"middle\" x=\"152.5\" y=\"-169\" font-family=\"sans\" font-size=\"10.00\">Budget.amount</text>\n</g>\n<!-- 0&#45;&gt;4 -->\n<g id=\"edge2\" class=\"edge\">\n<title>0&#45;&gt;4</title>\n<path fill=\"none\" stroke=\"gray\" d=\"M120.36,-188.9C124.41,-186.83 128.77,-184.61 132.93,-182.48\"/>\n<polygon fill=\"gray\" stroke=\"gray\" points=\"133.58,-183.33 135.77,-181.03 132.62,-181.46 133.58,-183.33\"/>\n</g>\n<!-- 2 -->\n<g id=\"node3\" class=\"node\">\n<title>2</title>\n<polygon fill=\"#aec7e8\" stroke=\"transparent\" points=\"69,-154 40,-154 40,-135 69,-135 69,-154\"/>\n<text text-anchor=\"middle\" x=\"54.5\" y=\"-142\" font-family=\"sans\" font-size=\"10.00\">R6</text>\n</g>\n<!-- 1&#45;&gt;2 -->\n<g id=\"edge3\" class=\"edge\">\n<title>1&#45;&gt;2</title>\n<path fill=\"none\" stroke=\"gray\" d=\"M54.5,-161.76C54.5,-160.36 54.5,-158.9 54.5,-157.45\"/>\n<polygon fill=\"gray\" stroke=\"gray\" points=\"55.55,-157.11 54.5,-154.11 53.45,-157.11 55.55,-157.11\"/>\n</g>\n<!-- 3 -->\n<g id=\"node4\" class=\"node\">\n<title>3</title>\n<polygon fill=\"#eeeeee\" stroke=\"transparent\" points=\"82,-127 27,-127 27,-108 82,-108 82,-127\"/>\n<text text-anchor=\"middle\" x=\"54.5\" y=\"-115\" font-family=\"sans\" font-size=\"10.00\">Бюджет</text>\n</g>\n<!-- 2&#45;&gt;3 -->\n<g id=\"edge4\" class=\"edge\">\n<title>2&#45;&gt;3</title>\n<path fill=\"none\" stroke=\"gray\" d=\"M54.5,-134.76C54.5,-133.36 54.5,-131.9 54.5,-130.45\"/>\n<polygon fill=\"gray\" stroke=\"gray\" points=\"55.55,-130.11 54.5,-127.11 53.45,-130.11 55.55,-130.11\"/>\n</g>\n<!-- 5 -->\n<g id=\"node6\" class=\"node\">\n<title>5</title>\n<polygon fill=\"#dbdb8d\" stroke=\"transparent\" points=\"178,-154 127,-154 127,-135 178,-135 178,-154\"/>\n<text text-anchor=\"middle\" x=\"152.5\" y=\"-142\" font-family=\"sans\" font-size=\"10.00\">Amount</text>\n</g>\n<!-- 4&#45;&gt;5 -->\n<g id=\"edge5\" class=\"edge\">\n<title>4&#45;&gt;5</title>\n<path fill=\"none\" stroke=\"gray\" d=\"M152.5,-161.76C152.5,-160.36 152.5,-158.9 152.5,-157.45\"/>\n<polygon fill=\"gray\" stroke=\"gray\" points=\"153.55,-157.11 152.5,-154.11 151.45,-157.11 153.55,-157.11\"/>\n</g>\n<!-- 6 -->\n<g id=\"node7\" class=\"node\">\n<title>6</title>\n<polygon fill=\"#dbdb8d\" stroke=\"transparent\" points=\"175.5,-127 129.5,-127 129.5,-108 175.5,-108 175.5,-127\"/>\n<text text-anchor=\"middle\" x=\"152.5\" y=\"-115\" font-family=\"sans\" font-size=\"10.00\">Range</text>\n</g>\n<!-- 5&#45;&gt;6 -->\n<g id=\"edge6\" class=\"edge\">\n<title>5&#45;&gt;6</title>\n<path fill=\"none\" stroke=\"gray\" d=\"M152.5,-134.76C152.5,-133.36 152.5,-131.9 152.5,-130.45\"/>\n<polygon fill=\"gray\" stroke=\"gray\" points=\"153.55,-130.11 152.5,-127.11 151.45,-130.11 153.55,-130.11\"/>\n</g>\n<!-- 7 -->\n<g id=\"node8\" class=\"node\">\n<title>7</title>\n<polygon fill=\"#aec7e8\" stroke=\"transparent\" points=\"144,-100 109,-100 109,-81 144,-81 144,-100\"/>\n<text text-anchor=\"middle\" x=\"126.5\" y=\"-88\" font-family=\"sans\" font-size=\"10.00\">R15</text>\n</g>\n<!-- 6&#45;&gt;7 -->\n<g id=\"edge7\" class=\"edge\">\n<title>6&#45;&gt;7</title>\n<path fill=\"none\" stroke=\"gray\" d=\"M143.41,-107.76C141.55,-105.98 139.58,-104.08 137.67,-102.24\"/>\n<polygon fill=\"gray\" stroke=\"gray\" points=\"138.35,-101.43 135.46,-100.11 136.89,-102.95 138.35,-101.43\"/>\n</g>\n<!-- 9 -->\n<g id=\"node10\" class=\"node\">\n<title>9</title>\n<polygon fill=\"#dbdb8d\" stroke=\"transparent\" points=\"213.5,-100 145.5,-100 145.5,-81 213.5,-81 213.5,-100\"/>\n<text text-anchor=\"middle\" x=\"179.5\" y=\"-88\" font-family=\"sans\" font-size=\"10.00\">Range.stop</text>\n</g>\n<!-- 6&#45;&gt;9 -->\n<g id=\"edge8\" class=\"edge\">\n<title>6&#45;&gt;9</title>\n<path fill=\"none\" stroke=\"gray\" d=\"M161.94,-107.76C163.87,-105.98 165.91,-104.08 167.9,-102.24\"/>\n<polygon fill=\"gray\" stroke=\"gray\" points=\"168.71,-102.92 170.2,-100.11 167.28,-101.38 168.71,-102.92\"/>\n</g>\n<!-- 8 -->\n<g id=\"node9\" class=\"node\">\n<title>8</title>\n<polygon fill=\"#eeeeee\" stroke=\"transparent\" points=\"140.5,-73 112.5,-73 112.5,-54 140.5,-54 140.5,-73\"/>\n<text text-anchor=\"middle\" x=\"126.5\" y=\"-61\" font-family=\"sans\" font-size=\"10.00\">до</text>\n</g>\n<!-- 7&#45;&gt;8 -->\n<g id=\"edge9\" class=\"edge\">\n<title>7&#45;&gt;8</title>\n<path fill=\"none\" stroke=\"gray\" d=\"M126.5,-80.76C126.5,-79.36 126.5,-77.9 126.5,-76.45\"/>\n<polygon fill=\"gray\" stroke=\"gray\" points=\"127.55,-76.11 126.5,-73.11 125.45,-76.11 127.55,-76.11\"/>\n</g>\n<!-- 10 -->\n<g id=\"node11\" class=\"node\">\n<title>10</title>\n<polygon fill=\"#aec7e8\" stroke=\"transparent\" points=\"194,-73 165,-73 165,-54 194,-54 194,-73\"/>\n<text text-anchor=\"middle\" x=\"179.5\" y=\"-61\" font-family=\"sans\" font-size=\"10.00\">R7</text>\n</g>\n<!-- 9&#45;&gt;10 -->\n<g id=\"edge10\" class=\"edge\">\n<title>9&#45;&gt;10</title>\n<path fill=\"none\" stroke=\"gray\" d=\"M179.5,-80.76C179.5,-79.36 179.5,-77.9 179.5,-76.45\"/>\n<polygon fill=\"gray\" stroke=\"gray\" points=\"180.55,-76.11 179.5,-73.11 178.45,-76.11 180.55,-76.11\"/>\n</g>\n<!-- 11 -->\n<g id=\"node12\" class=\"node\">\n<title>11</title>\n<polygon fill=\"#dbdb8d\" stroke=\"transparent\" points=\"212.5,-46 146.5,-46 146.5,-27 212.5,-27 212.5,-46\"/>\n<text text-anchor=\"middle\" x=\"179.5\" y=\"-34\" font-family=\"sans\" font-size=\"10.00\">custom(int)</text>\n</g>\n<!-- 10&#45;&gt;11 -->\n<g id=\"edge11\" class=\"edge\">\n<title>10&#45;&gt;11</title>\n<path fill=\"none\" stroke=\"gray\" d=\"M179.5,-53.76C179.5,-52.36 179.5,-50.9 179.5,-49.45\"/>\n<polygon fill=\"gray\" stroke=\"gray\" points=\"180.55,-49.11 179.5,-46.11 178.45,-49.11 180.55,-49.11\"/>\n</g>\n<!-- 12 -->\n<g id=\"node13\" class=\"node\">\n<title>12</title>\n<polygon fill=\"#eeeeee\" stroke=\"transparent\" points=\"204.5,-19 154.5,-19 154.5,0 204.5,0 204.5,-19\"/>\n<text text-anchor=\"middle\" x=\"179.5\" y=\"-7\" font-family=\"sans\" font-size=\"10.00\">180000</text>\n</g>\n<!-- 11&#45;&gt;12 -->\n<g id=\"edge12\" class=\"edge\">\n<title>11&#45;&gt;12</title>\n<path fill=\"none\" stroke=\"gray\" d=\"M179.5,-26.76C179.5,-25.36 179.5,-23.9 179.5,-22.45\"/>\n<polygon fill=\"gray\" stroke=\"gray\" points=\"180.55,-22.11 179.5,-19.11 178.45,-22.11 180.55,-22.11\"/>\n</g>\n</g>\n</svg>\n"
     },
     "metadata": {}
    },
    {
     "output_type": "display_data",
     "data": {
      "text/plain": [
       "Budget(\n",
       "    budget_word='Бюджет',\n",
       "    amount=Amount(\n",
       "        value=None\n",
       "    )\n",
       ")"
      ]
     },
     "metadata": {}
    }
   ],
   "metadata": {}
  },
  {
   "cell_type": "code",
   "execution_count": null,
   "source": [],
   "outputs": [],
   "metadata": {}
  }
 ],
 "metadata": {
  "interpreter": {
   "hash": "c2cf870773758035b938b81f22e6070e2526a88a16b51765671f7a44fc858513"
  },
  "kernelspec": {
   "name": "python3",
   "display_name": "Python 3.9.1 64-bit ('base': conda)"
  },
  "language_info": {
   "codemirror_mode": {
    "name": "ipython",
    "version": 3
   },
   "file_extension": ".py",
   "mimetype": "text/x-python",
   "name": "python",
   "nbconvert_exporter": "python",
   "pygments_lexer": "ipython3",
   "version": "3.9.1"
  }
 },
 "nbformat": 4,
 "nbformat_minor": 4
}