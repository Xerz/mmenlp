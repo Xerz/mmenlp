{
 "cells": [
  {
   "cell_type": "code",
   "execution_count": 2,
   "source": [
    "from pyaspeller import YandexSpeller, Word\n",
    "from spellchecker import SpellChecker\n",
    "from datetime import datetime\n",
    "import pandas as pd\n",
    "\n",
    "speller = YandexSpeller()\n",
    "russian = SpellChecker(language='ru')"
   ],
   "outputs": [],
   "metadata": {}
  },
  {
   "cell_type": "code",
   "execution_count": 3,
   "source": [
    "# тестовые данные\n",
    "data = pd.read_csv('data.csv')\n",
    "data"
   ],
   "outputs": [
    {
     "output_type": "execute_result",
     "data": {
      "text/plain": [
       "                                                 text    R\n",
       "0   Хочу в Абхазию, чтобы отель были видны горы и ...  4.1\n",
       "1   смотрим терклюр, в общем нам нужен хороший пля...  4.1\n",
       "2   Примерно с 6 сентября на на 7-9 ночей, море в ...  4.1\n",
       "3   7 ночей. Бюджет 100 000. Пожелания по отелю: х...  4.1\n",
       "4   Хотим с дочкой в Турцию, на конец июля(26-28) ...  4.1\n",
       "5   Здравствуйте. Мы бы хотели подобрать тур у вас...  4.1\n",
       "6   Добрый день! Ищем пляжный отдых для матери с р...  4.1\n",
       "7   Хотим нормальную пятерку, первая линия, чтобы ...  4.1\n",
       "8   Здравствуйте, выбрали Грецию. 2 семьи(2 взросл...  4.1\n",
       "9   Привет, ищу качественный отель категории 3* не...  4.1\n",
       "10  Пляж песок, первая линия, чтобы детям было хор...  4.1\n",
       "11  Нужно чтобы было рядом где погулять,  не ниже ...  4.1\n",
       "12  Отель семейный. Детские горки чтобы были, на п...  4.1\n",
       "13  Мне не нужно все включено, важно чтобы было гд...  4.1\n",
       "14  Отель нужен новый или чтобы ремонт был в прошл...  4.1\n",
       "15  Мне нужно туда. Чтобы было поменьше русских, о...  4.1\n",
       "16  Нужно чтобы отель был недалеко от аэропорта. Ч...  4.1\n",
       "17  Нам нужен отель хорошего уровня, питание с имп...  4.1\n",
       "18  2 взрослых, 12-16 июля Горный, на берегу,лесис...  4.1\n",
       "19  3взрослых +1 ребенок (9), Горный 29.07-01.08, ...  4.1\n",
       "20  Привет, только вырвались в отпуск, план такой:...  4.1\n",
       "21  Добрый вечер, ищем тур,вылет 10-12 июля или 15...  4.1\n",
       "22  Семья 2+1 ребенок(11), Турция , Район Авсалар,...  4.1\n",
       "23  Здравствуйте, нас интересует море, заграница. ...  4.1\n",
       "24  Отель в Турции 4-5*с песчаным пляжем ,работающ...  4.1\n",
       "25  С 1 по 5,7 сент, 2+4(12,10 и 2 по года), пляжн...  4.1\n",
       "26  Здравствуйте! Посоветуйте,,, какие отели посмо...  4.1\n",
       "27  Кипр на 20-22 июля в хороший отель в районе ми...  4.1\n",
       "28  2 взр с 14.06 до 02.07 даты вылета, на 10 ноче...  4.1\n",
       "29  Здравствуйте. 3 взрослых. Лучше из Москвы. У н...  4.1\n",
       "30  Мы с женой хотим отдохнуть в Белеке, в хорошем...  4.7\n",
       "31  Два взрослых и ребенок 3 года. Хотим отель на ...  4.6\n",
       "32  Нам нужны море, солнце и песок. От отеля - мин...  3.5"
      ],
      "text/html": [
       "<div>\n",
       "<style scoped>\n",
       "    .dataframe tbody tr th:only-of-type {\n",
       "        vertical-align: middle;\n",
       "    }\n",
       "\n",
       "    .dataframe tbody tr th {\n",
       "        vertical-align: top;\n",
       "    }\n",
       "\n",
       "    .dataframe thead th {\n",
       "        text-align: right;\n",
       "    }\n",
       "</style>\n",
       "<table border=\"1\" class=\"dataframe\">\n",
       "  <thead>\n",
       "    <tr style=\"text-align: right;\">\n",
       "      <th></th>\n",
       "      <th>text</th>\n",
       "      <th>R</th>\n",
       "    </tr>\n",
       "  </thead>\n",
       "  <tbody>\n",
       "    <tr>\n",
       "      <th>0</th>\n",
       "      <td>Хочу в Абхазию, чтобы отель были видны горы и ...</td>\n",
       "      <td>4.1</td>\n",
       "    </tr>\n",
       "    <tr>\n",
       "      <th>1</th>\n",
       "      <td>смотрим терклюр, в общем нам нужен хороший пля...</td>\n",
       "      <td>4.1</td>\n",
       "    </tr>\n",
       "    <tr>\n",
       "      <th>2</th>\n",
       "      <td>Примерно с 6 сентября на на 7-9 ночей, море в ...</td>\n",
       "      <td>4.1</td>\n",
       "    </tr>\n",
       "    <tr>\n",
       "      <th>3</th>\n",
       "      <td>7 ночей. Бюджет 100 000. Пожелания по отелю: х...</td>\n",
       "      <td>4.1</td>\n",
       "    </tr>\n",
       "    <tr>\n",
       "      <th>4</th>\n",
       "      <td>Хотим с дочкой в Турцию, на конец июля(26-28) ...</td>\n",
       "      <td>4.1</td>\n",
       "    </tr>\n",
       "    <tr>\n",
       "      <th>5</th>\n",
       "      <td>Здравствуйте. Мы бы хотели подобрать тур у вас...</td>\n",
       "      <td>4.1</td>\n",
       "    </tr>\n",
       "    <tr>\n",
       "      <th>6</th>\n",
       "      <td>Добрый день! Ищем пляжный отдых для матери с р...</td>\n",
       "      <td>4.1</td>\n",
       "    </tr>\n",
       "    <tr>\n",
       "      <th>7</th>\n",
       "      <td>Хотим нормальную пятерку, первая линия, чтобы ...</td>\n",
       "      <td>4.1</td>\n",
       "    </tr>\n",
       "    <tr>\n",
       "      <th>8</th>\n",
       "      <td>Здравствуйте, выбрали Грецию. 2 семьи(2 взросл...</td>\n",
       "      <td>4.1</td>\n",
       "    </tr>\n",
       "    <tr>\n",
       "      <th>9</th>\n",
       "      <td>Привет, ищу качественный отель категории 3* не...</td>\n",
       "      <td>4.1</td>\n",
       "    </tr>\n",
       "    <tr>\n",
       "      <th>10</th>\n",
       "      <td>Пляж песок, первая линия, чтобы детям было хор...</td>\n",
       "      <td>4.1</td>\n",
       "    </tr>\n",
       "    <tr>\n",
       "      <th>11</th>\n",
       "      <td>Нужно чтобы было рядом где погулять,  не ниже ...</td>\n",
       "      <td>4.1</td>\n",
       "    </tr>\n",
       "    <tr>\n",
       "      <th>12</th>\n",
       "      <td>Отель семейный. Детские горки чтобы были, на п...</td>\n",
       "      <td>4.1</td>\n",
       "    </tr>\n",
       "    <tr>\n",
       "      <th>13</th>\n",
       "      <td>Мне не нужно все включено, важно чтобы было гд...</td>\n",
       "      <td>4.1</td>\n",
       "    </tr>\n",
       "    <tr>\n",
       "      <th>14</th>\n",
       "      <td>Отель нужен новый или чтобы ремонт был в прошл...</td>\n",
       "      <td>4.1</td>\n",
       "    </tr>\n",
       "    <tr>\n",
       "      <th>15</th>\n",
       "      <td>Мне нужно туда. Чтобы было поменьше русских, о...</td>\n",
       "      <td>4.1</td>\n",
       "    </tr>\n",
       "    <tr>\n",
       "      <th>16</th>\n",
       "      <td>Нужно чтобы отель был недалеко от аэропорта. Ч...</td>\n",
       "      <td>4.1</td>\n",
       "    </tr>\n",
       "    <tr>\n",
       "      <th>17</th>\n",
       "      <td>Нам нужен отель хорошего уровня, питание с имп...</td>\n",
       "      <td>4.1</td>\n",
       "    </tr>\n",
       "    <tr>\n",
       "      <th>18</th>\n",
       "      <td>2 взрослых, 12-16 июля Горный, на берегу,лесис...</td>\n",
       "      <td>4.1</td>\n",
       "    </tr>\n",
       "    <tr>\n",
       "      <th>19</th>\n",
       "      <td>3взрослых +1 ребенок (9), Горный 29.07-01.08, ...</td>\n",
       "      <td>4.1</td>\n",
       "    </tr>\n",
       "    <tr>\n",
       "      <th>20</th>\n",
       "      <td>Привет, только вырвались в отпуск, план такой:...</td>\n",
       "      <td>4.1</td>\n",
       "    </tr>\n",
       "    <tr>\n",
       "      <th>21</th>\n",
       "      <td>Добрый вечер, ищем тур,вылет 10-12 июля или 15...</td>\n",
       "      <td>4.1</td>\n",
       "    </tr>\n",
       "    <tr>\n",
       "      <th>22</th>\n",
       "      <td>Семья 2+1 ребенок(11), Турция , Район Авсалар,...</td>\n",
       "      <td>4.1</td>\n",
       "    </tr>\n",
       "    <tr>\n",
       "      <th>23</th>\n",
       "      <td>Здравствуйте, нас интересует море, заграница. ...</td>\n",
       "      <td>4.1</td>\n",
       "    </tr>\n",
       "    <tr>\n",
       "      <th>24</th>\n",
       "      <td>Отель в Турции 4-5*с песчаным пляжем ,работающ...</td>\n",
       "      <td>4.1</td>\n",
       "    </tr>\n",
       "    <tr>\n",
       "      <th>25</th>\n",
       "      <td>С 1 по 5,7 сент, 2+4(12,10 и 2 по года), пляжн...</td>\n",
       "      <td>4.1</td>\n",
       "    </tr>\n",
       "    <tr>\n",
       "      <th>26</th>\n",
       "      <td>Здравствуйте! Посоветуйте,,, какие отели посмо...</td>\n",
       "      <td>4.1</td>\n",
       "    </tr>\n",
       "    <tr>\n",
       "      <th>27</th>\n",
       "      <td>Кипр на 20-22 июля в хороший отель в районе ми...</td>\n",
       "      <td>4.1</td>\n",
       "    </tr>\n",
       "    <tr>\n",
       "      <th>28</th>\n",
       "      <td>2 взр с 14.06 до 02.07 даты вылета, на 10 ноче...</td>\n",
       "      <td>4.1</td>\n",
       "    </tr>\n",
       "    <tr>\n",
       "      <th>29</th>\n",
       "      <td>Здравствуйте. 3 взрослых. Лучше из Москвы. У н...</td>\n",
       "      <td>4.1</td>\n",
       "    </tr>\n",
       "    <tr>\n",
       "      <th>30</th>\n",
       "      <td>Мы с женой хотим отдохнуть в Белеке, в хорошем...</td>\n",
       "      <td>4.7</td>\n",
       "    </tr>\n",
       "    <tr>\n",
       "      <th>31</th>\n",
       "      <td>Два взрослых и ребенок 3 года. Хотим отель на ...</td>\n",
       "      <td>4.6</td>\n",
       "    </tr>\n",
       "    <tr>\n",
       "      <th>32</th>\n",
       "      <td>Нам нужны море, солнце и песок. От отеля - мин...</td>\n",
       "      <td>3.5</td>\n",
       "    </tr>\n",
       "  </tbody>\n",
       "</table>\n",
       "</div>"
      ]
     },
     "metadata": {},
     "execution_count": 3
    }
   ],
   "metadata": {}
  },
  {
   "cell_type": "code",
   "execution_count": 90,
   "source": [
    "import importlib\n",
    "importlib.reload(nlp_functions)"
   ],
   "outputs": [
    {
     "output_type": "execute_result",
     "data": {
      "text/plain": [
       "<module 'nlp_functions' from '/home/u53r/vscodeprojects/nlp_functions.py'>"
      ]
     },
     "metadata": {},
     "execution_count": 90
    }
   ],
   "metadata": {}
  },
  {
   "cell_type": "code",
   "execution_count": 4,
   "source": [
    "from nlp_functions import nlp_preprocessing\n",
    "from preprocessing_functions.tf_idf_preprocessing import tf_idf"
   ],
   "outputs": [],
   "metadata": {}
  },
  {
   "cell_type": "code",
   "execution_count": 4,
   "source": [
    "%load_ext autoreload\n",
    "%autoreload 2"
   ],
   "outputs": [],
   "metadata": {}
  },
  {
   "cell_type": "markdown",
   "source": [
    "## Препроцессинг текста"
   ],
   "metadata": {}
  },
  {
   "cell_type": "code",
   "execution_count": 104,
   "source": [
    "importlib.reload(nlp_functions)\n",
    "nlp_params = dict()\n",
    "\n",
    "## Основные параметры\n",
    "nlp_params['train'] = data # основной датасет\n",
    "nlp_params['oos'] = None  # out-of-sample при наличии (необязательный параметр)\n",
    "nlp_params['oot'] = None  # out-of-time при наличии (необязательный параметр)\n",
    "nlp_params['text_field'] = 'text'  # название столбца с текстом\n",
    "\n",
    "## Простой препроцессинг\n",
    "nlp_params['need_del_dash'] = False  # удаление тире\n",
    "nlp_params['need_lower_case'] = True  # приведение к нижнему регистру\n",
    "nlp_params['need_del_number'] = False  # удаление чисел\n",
    "nlp_params['need_del_in_brackets'] = False  # внутри скобок\n",
    "nlp_params['need_del_eng'] = False  # английские буквы\n",
    "\n",
    "## Поиск опечаток (spellcheker)\n",
    "nlp_params['need_spellchecker'] = True  # запуск поиска опечаток [True, False]\n",
    "# действия над опечатками [delete, replace, nothing(default)] / рекомендуется использовать replace - работает в разы быстрее\n",
    "nlp_params['need_del_spell'] = 'replace'\n",
    "\n",
    "## Лемматизация\n",
    "nlp_params['need_lemma'] = True  # запуск лемматизации [True, False]\n",
    "nlp_params['need_lru_cache'] = True  # использование декоратора для ускорения процесса лемматизации [True, False] (рекомендуется)\n",
    "\n",
    "## Поиск сущностей (NER) | поиск сущностей следует запускать только после лемматизации слов\n",
    "nlp_params['need_ner'] = True  # запуск поиска сущностей [True, False]\n",
    "nlp_params['need_del_number_ner'] = 'nothing'  # действия над числами [delete, replace, nothing(default)]\n",
    "nlp_params['need_del_name'] = 'replace'  # действия над именами (также)\n",
    "nlp_params['need_del_org'] = 'replace'  # действия над названиями организаций (также)\n",
    "nlp_params['need_del_geo'] = 'nothing'  # действия над локациями (также)\n",
    "nlp_params['need_del_months'] = False  # действия над месяцами (True - delete, False - nothing)\n",
    "\n",
    "## Настройки для стопслов\n",
    "nlp_params['need_del_stopwords'] = True  # действия над стопсловами [True, False]\n",
    "nlp_params['new_stopwords'] = []  # новый список стопслов ['word1', 'word2']\n",
    "# режим работы со стопсловами, какие стопслова используются ['default list', 'default list + additional list', 'only additional list']\n",
    "nlp_params['mode_stopwords'] = 'default list'  \n",
    "\n",
    "train, oos, oot = nlp_preprocessing(**nlp_params)"
   ],
   "outputs": [
    {
     "output_type": "stream",
     "name": "stdout",
     "text": [
      "123231243\n",
      "Trash chars done! - 0:00:00.005594\n",
      "\n",
      "\n",
      "\n",
      "Lemmatization / Spellcheker / NER done! - 0:00:01.847416\n",
      "\n",
      "Delete stop words done! - 0:00:00.005605\n",
      "Preprocessing done!\n"
     ]
    }
   ],
   "metadata": {}
  },
  {
   "cell_type": "code",
   "execution_count": 105,
   "source": [
    "train.text[6]"
   ],
   "outputs": [
    {
     "output_type": "execute_result",
     "data": {
      "text/plain": [
       "'Добрый день! Ищем пляжный отдых для матери с ребенком (13), отель не ниже 4, чтобы был пляж и трансфер из аэропорта. Не особо дорого'"
      ]
     },
     "metadata": {},
     "execution_count": 105
    }
   ],
   "metadata": {}
  },
  {
   "cell_type": "code",
   "execution_count": 106,
   "source": [
    "train.new_prep_text[6]"
   ],
   "outputs": [
    {
     "output_type": "execute_result",
     "data": {
      "text/plain": [
       "'добрый день искать пляжный отдых мать ребенок 13 отель ниже 4 пляж трансфер аэропорт особо дорого'"
      ]
     },
     "metadata": {},
     "execution_count": 106
    }
   ],
   "metadata": {}
  },
  {
   "cell_type": "markdown",
   "source": [
    "## Векторизация текста с помощью TFiDF"
   ],
   "metadata": {}
  },
  {
   "cell_type": "code",
   "execution_count": 107,
   "source": [
    "tf_idf_params = dict()\n",
    "\n",
    "params = { # Параметры TFidfVectorizer()\n",
    "    'ngram_range': (1, 2) # задаем размер н-грамм\n",
    "}\n",
    "\n",
    "## Основные параметры\n",
    "tf_idf_params['train'] = train # основной датасет\n",
    "tf_idf_params['oos'] = None  # out-of-sample при наличии (необязательный параметр)\n",
    "tf_idf_params['oot'] = None  # out-of-time при наличии (необязательный параметр)\n",
    "tf_idf_params['text_field'] = 'new_prep_text'  # название столбца с текстом\n",
    "tf_idf_params['target_name'] = None  # название поля с таргетом\n",
    "\n",
    "## Параметры TFiDF\n",
    "tf_idf_params['params'] = params\n",
    "\n",
    "train, oos, oot, feature_names = tf_idf(**tf_idf_params)"
   ],
   "outputs": [],
   "metadata": {}
  },
  {
   "cell_type": "code",
   "execution_count": 108,
   "source": [
    "train['R'] = data['R']\n",
    "d = [0]*16\n",
    "d.extend([1]*16)\n",
    "d.append(1)\n",
    "train['R'] = d\n",
    "train"
   ],
   "outputs": [],
   "metadata": {}
  },
  {
   "cell_type": "markdown",
   "source": [
    "## Классификация"
   ],
   "metadata": {}
  },
  {
   "cell_type": "code",
   "execution_count": 184,
   "source": [
    "from sklearn.naive_bayes import MultinomialNB\n",
    "from sklearn.metrics import accuracy_score\n",
    "from sklearn.model_selection import train_test_split\n",
    "x_train, x_test, y_train, y_test = train_test_split(train.drop('R', axis=1), train['R'], train_size=0.6, random_state=5)\n",
    "\n",
    "nb = MultinomialNB()\n",
    "nb.fit(x_train,y_train)\n"
   ],
   "outputs": [
    {
     "output_type": "execute_result",
     "data": {
      "text/plain": [
       "MultinomialNB()"
      ]
     },
     "metadata": {},
     "execution_count": 184
    }
   ],
   "metadata": {}
  },
  {
   "cell_type": "code",
   "execution_count": 192,
   "source": [
    "max_acc = 0\n",
    "from joblib import Parallel, delayed\n",
    "def chk(i, x_train, x_test, y_train, y_test):\n",
    "    x_train, x_test, y_train, y_test = train_test_split(train.drop('R', axis=1), train['R'], train_size=0.5, random_state=i)\n",
    "\n",
    "    nb = MultinomialNB()\n",
    "    nb.fit(x_train,y_train)\n",
    "    acc = accuracy_score(y_test, nb.predict(x_test))\n",
    "    return acc\n",
    "\n",
    "print(max(Parallel(n_jobs=12)(delayed(chk)(i, x_train, x_test, y_train, y_test) for i in range(100000))))"
   ],
   "outputs": [
    {
     "output_type": "stream",
     "name": "stdout",
     "text": [
      "0.9411764705882353\n"
     ]
    }
   ],
   "metadata": {}
  },
  {
   "cell_type": "code",
   "execution_count": 194,
   "source": [
    "accuracy_score(y_test, nb.predict(x_test))"
   ],
   "outputs": [
    {
     "output_type": "execute_result",
     "data": {
      "text/plain": [
       "0.7058823529411765"
      ]
     },
     "metadata": {},
     "execution_count": 194
    }
   ],
   "metadata": {}
  },
  {
   "cell_type": "markdown",
   "source": [
    "## Регрессия"
   ],
   "metadata": {}
  },
  {
   "cell_type": "code",
   "execution_count": 193,
   "source": [
    "from sklearn.linear_model import LogisticRegression\n",
    "lm = LogisticRegression()\n",
    "lm.fit(x_train, y_train)\n",
    "accuracy_score(y_test, lm.predict(x_test))"
   ],
   "outputs": [
    {
     "output_type": "execute_result",
     "data": {
      "text/plain": [
       "0.7058823529411765"
      ]
     },
     "metadata": {},
     "execution_count": 193
    }
   ],
   "metadata": {}
  }
 ],
 "metadata": {
  "interpreter": {
   "hash": "c2cf870773758035b938b81f22e6070e2526a88a16b51765671f7a44fc858513"
  },
  "kernelspec": {
   "name": "python3",
   "display_name": "Python 3.9.1 64-bit ('miniconda': virtualenv)"
  },
  "language_info": {
   "codemirror_mode": {
    "name": "ipython",
    "version": 3
   },
   "file_extension": ".py",
   "mimetype": "text/x-python",
   "name": "python",
   "nbconvert_exporter": "python",
   "pygments_lexer": "ipython3",
   "version": "3.9.1"
  }
 },
 "nbformat": 4,
 "nbformat_minor": 4
}